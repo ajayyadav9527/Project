{
 "cells": [
  {
   "cell_type": "code",
   "execution_count": null,
   "metadata": {},
   "outputs": [],
   "source": [
    "import cv2 as cv\n",
    "import numpy as np\n",
    "\n",
    "path1 = 'D:/Anaconda_all/11__hour_couse_image_processing/Data/a.jpg'\n",
    "path2 = 'D:/Anaconda_all/11__hour_couse_image_processing/Data/cascades/haarcascade_frontalface_default.xml'\n",
    "path3 = 'D:/Anaconda_all/11__hour_couse_image_processing/Data/cascades/haarcascade_eye.xml'\n",
    "\n",
    "#image = cv.imread(path1)\n",
    "face = cv.CascadeClassifier(path2)\n",
    "eye  = cv.CascadeClassifier(path3)\n",
    "\n",
    "def detector(image):\n",
    "    gray = cv.cvtColor(image, cv.COLOR_BGR2GRAY)\n",
    "    face_rec = face.detectMultiScale(gray, 1.1, 4)\n",
    "\n",
    "    for (x, y, w, h) in face_rec:\n",
    "        cv.rectangle(image, (x, y), (x + w, y + h), (0, 255, 0), 3)\n",
    "        g_img = gray[y:y + h, x:x + w]\n",
    "        c_img = image[y:y + h, x:x + w]\n",
    "        eye_rec = eye.detectMultiScale(g_img, 1.1, 1)\n",
    "        for (x1, y1, w1, h1) in eye_rec:\n",
    "            cv.rectangle(c_img, (x1, y1), (x1 + w1, y1 + h1), (0, 0, 255), 3)\n",
    "\n",
    "\n",
    "    return image\n",
    "\n",
    "\n",
    "\n",
    "cap = cv.VideoCapture(0, cv.CAP_DSHOW)\n",
    "while True:\n",
    "    _, img = cap.read()\n",
    "    img = cv.flip(img, 2)\n",
    "    img = cv.resize(img, (800, 600))\n",
    "    cv.imshow(\"Face\", detector(img))\n",
    "    if cv.waitKey(30)==27:\n",
    "        break\n",
    "\n",
    "cap.release()\n",
    "cv.destroyAllWindows()\n",
    "\n",
    "\n"
   ]
  },
  {
   "cell_type": "code",
   "execution_count": null,
   "metadata": {},
   "outputs": [],
   "source": []
  },
  {
   "cell_type": "code",
   "execution_count": null,
   "metadata": {},
   "outputs": [],
   "source": []
  }
 ],
 "metadata": {
  "kernelspec": {
   "display_name": "Python 3",
   "language": "python",
   "name": "python3"
  },
  "language_info": {
   "codemirror_mode": {
    "name": "ipython",
    "version": 3
   },
   "file_extension": ".py",
   "mimetype": "text/x-python",
   "name": "python",
   "nbconvert_exporter": "python",
   "pygments_lexer": "ipython3",
   "version": "3.8.5"
  }
 },
 "nbformat": 4,
 "nbformat_minor": 4
}
