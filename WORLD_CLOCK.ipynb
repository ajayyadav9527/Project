{
 "cells": [
  {
   "cell_type": "code",
   "execution_count": 59,
   "id": "irish-sugar",
   "metadata": {},
   "outputs": [],
   "source": [
    "import datetime\n",
    "import pyttsx3"
   ]
  },
  {
   "cell_type": "code",
   "execution_count": 61,
   "id": "neutral-supplier",
   "metadata": {},
   "outputs": [
    {
     "name": "stdout",
     "output_type": "stream",
     "text": [
      "Enter City:kw\n",
      "kw is not added\n",
      "India 15:44:7\n",
      "Enter City:Boston\n",
      "Boston 11:44:35\n",
      "Enter City:shanghai\n",
      "shanghai 23:44:47\n"
     ]
    },
    {
     "ename": "KeyboardInterrupt",
     "evalue": "Interrupted by user",
     "output_type": "error",
     "traceback": [
      "\u001b[1;31m---------------------------------------------------------------------------\u001b[0m",
      "\u001b[1;31mKeyboardInterrupt\u001b[0m                         Traceback (most recent call last)",
      "\u001b[1;32m<ipython-input-61-545b9fa267e1>\u001b[0m in \u001b[0;36m<module>\u001b[1;34m\u001b[0m\n\u001b[0;32m      1\u001b[0m \u001b[1;32mwhile\u001b[0m \u001b[1;33m(\u001b[0m\u001b[1;32mTrue\u001b[0m\u001b[1;33m)\u001b[0m\u001b[1;33m:\u001b[0m\u001b[1;33m\u001b[0m\u001b[1;33m\u001b[0m\u001b[0m\n\u001b[0;32m      2\u001b[0m     \u001b[1;31m#Get the name of the City from user\u001b[0m\u001b[1;33m\u001b[0m\u001b[1;33m\u001b[0m\u001b[1;33m\u001b[0m\u001b[0m\n\u001b[1;32m----> 3\u001b[1;33m     \u001b[0mcity\u001b[0m \u001b[1;33m=\u001b[0m \u001b[0minput\u001b[0m\u001b[1;33m(\u001b[0m\u001b[1;34m\"Enter City:\"\u001b[0m\u001b[1;33m)\u001b[0m\u001b[1;33m\u001b[0m\u001b[1;33m\u001b[0m\u001b[0m\n\u001b[0m\u001b[0;32m      4\u001b[0m \u001b[1;33m\u001b[0m\u001b[0m\n\u001b[0;32m      5\u001b[0m     \u001b[1;31m## Get the current time\u001b[0m\u001b[1;33m\u001b[0m\u001b[1;33m\u001b[0m\u001b[1;33m\u001b[0m\u001b[0m\n",
      "\u001b[1;32m~\\anaconda3\\lib\\site-packages\\ipykernel\\kernelbase.py\u001b[0m in \u001b[0;36mraw_input\u001b[1;34m(self, prompt)\u001b[0m\n\u001b[0;32m    858\u001b[0m                 \u001b[1;34m\"raw_input was called, but this frontend does not support input requests.\"\u001b[0m\u001b[1;33m\u001b[0m\u001b[1;33m\u001b[0m\u001b[0m\n\u001b[0;32m    859\u001b[0m             )\n\u001b[1;32m--> 860\u001b[1;33m         return self._input_request(str(prompt),\n\u001b[0m\u001b[0;32m    861\u001b[0m             \u001b[0mself\u001b[0m\u001b[1;33m.\u001b[0m\u001b[0m_parent_ident\u001b[0m\u001b[1;33m,\u001b[0m\u001b[1;33m\u001b[0m\u001b[1;33m\u001b[0m\u001b[0m\n\u001b[0;32m    862\u001b[0m             \u001b[0mself\u001b[0m\u001b[1;33m.\u001b[0m\u001b[0m_parent_header\u001b[0m\u001b[1;33m,\u001b[0m\u001b[1;33m\u001b[0m\u001b[1;33m\u001b[0m\u001b[0m\n",
      "\u001b[1;32m~\\anaconda3\\lib\\site-packages\\ipykernel\\kernelbase.py\u001b[0m in \u001b[0;36m_input_request\u001b[1;34m(self, prompt, ident, parent, password)\u001b[0m\n\u001b[0;32m    902\u001b[0m             \u001b[1;32mexcept\u001b[0m \u001b[0mKeyboardInterrupt\u001b[0m\u001b[1;33m:\u001b[0m\u001b[1;33m\u001b[0m\u001b[1;33m\u001b[0m\u001b[0m\n\u001b[0;32m    903\u001b[0m                 \u001b[1;31m# re-raise KeyboardInterrupt, to truncate traceback\u001b[0m\u001b[1;33m\u001b[0m\u001b[1;33m\u001b[0m\u001b[1;33m\u001b[0m\u001b[0m\n\u001b[1;32m--> 904\u001b[1;33m                 \u001b[1;32mraise\u001b[0m \u001b[0mKeyboardInterrupt\u001b[0m\u001b[1;33m(\u001b[0m\u001b[1;34m\"Interrupted by user\"\u001b[0m\u001b[1;33m)\u001b[0m \u001b[1;32mfrom\u001b[0m \u001b[1;32mNone\u001b[0m\u001b[1;33m\u001b[0m\u001b[1;33m\u001b[0m\u001b[0m\n\u001b[0m\u001b[0;32m    905\u001b[0m             \u001b[1;32mexcept\u001b[0m \u001b[0mException\u001b[0m \u001b[1;32mas\u001b[0m \u001b[0me\u001b[0m\u001b[1;33m:\u001b[0m\u001b[1;33m\u001b[0m\u001b[1;33m\u001b[0m\u001b[0m\n\u001b[0;32m    906\u001b[0m                 \u001b[0mself\u001b[0m\u001b[1;33m.\u001b[0m\u001b[0mlog\u001b[0m\u001b[1;33m.\u001b[0m\u001b[0mwarning\u001b[0m\u001b[1;33m(\u001b[0m\u001b[1;34m\"Invalid Message:\"\u001b[0m\u001b[1;33m,\u001b[0m \u001b[0mexc_info\u001b[0m\u001b[1;33m=\u001b[0m\u001b[1;32mTrue\u001b[0m\u001b[1;33m)\u001b[0m\u001b[1;33m\u001b[0m\u001b[1;33m\u001b[0m\u001b[0m\n",
      "\u001b[1;31mKeyboardInterrupt\u001b[0m: Interrupted by user"
     ]
    }
   ],
   "source": [
    "while (True):\n",
    "    #Get the name of the City from user\n",
    "    city = input(\"Enter City:\")\n",
    "    \n",
    "    ## Get the current time\n",
    "    current_time = datetime.datetime.now()\n",
    "    \n",
    "    ##Save Hours,Minutes and seconds of the current time\n",
    "    ## In their corresponding variable\n",
    "    \n",
    "    hour = current_time.hour\n",
    "    minute = current_time.minute\n",
    "    second = current_time.second\n",
    "    \n",
    "    ## Check for case 1:the learner has type Boston\n",
    "    \n",
    "    if (city == 'Boston') or (city == 'boston') or (city == 'BOSTON') :\n",
    "        hour = hour - 4\n",
    "    \n",
    "    ## Check for case 2:the learner has type Boston\n",
    "    \n",
    "    elif (city == 'Tokiyo') or (city =='tokiyo') or (city =='TOKIYO') :\n",
    "        hour = hour + 9\n",
    "    \n",
    "    ##Check for case 3:the learner has type Boston\n",
    "    \n",
    "    elif (city == 'Chicago') or (city =='chicago') or (city ==('Chicago').upper()):\n",
    "        hour = hour - 5\n",
    "        \n",
    "    ##Check for case 4:the learner has type Boston\n",
    "    \n",
    "    elif (city == 'Seattle') or (city =='seattle') or (city ==('seattle').upper()) :\n",
    "                hour = hour - 7\n",
    "            \n",
    "    ##Check for cas5:the learner has type Boston\n",
    "     \n",
    "    elif (city == 'Shanghai') or (city == ('Shanghai').upper()) or (city == ('Shanghai').lower()):\n",
    "        hour = hour +8\n",
    "    \n",
    "    ##Check for cas6:the learner has type for exit\n",
    "    \n",
    "    \n",
    "    \n",
    "    elif (city == 'EXIT') or (city =='exit') or (city == 'Exit'):\n",
    "                break\n",
    "    \n",
    "    \n",
    "    ##if all cases fail, show the time for GMT \n",
    "    \n",
    "    else:\n",
    "        print(city, \"is not added\")\n",
    "        pyttsx3.speak(\"Indian standard Time\")\n",
    "        city = 'India'\n",
    "    ## print the name of the city and the its corresponding time\n",
    "    \n",
    "    print(city, str(hour) + \":\" + str(minute) + \":\" +str(second) )\n",
    "    pyttsx3.speak(str(hour) +'hours'+':' + str(minute) +'minutes' + ':'+ str(second) + 'seconds')"
   ]
  },
  {
   "cell_type": "code",
   "execution_count": null,
   "id": "breeding-cliff",
   "metadata": {},
   "outputs": [],
   "source": []
  },
  {
   "cell_type": "code",
   "execution_count": null,
   "id": "amateur-browser",
   "metadata": {},
   "outputs": [],
   "source": []
  },
  {
   "cell_type": "code",
   "execution_count": null,
   "id": "guilty-caution",
   "metadata": {},
   "outputs": [],
   "source": []
  },
  {
   "cell_type": "code",
   "execution_count": null,
   "id": "equivalent-separate",
   "metadata": {},
   "outputs": [],
   "source": []
  },
  {
   "cell_type": "code",
   "execution_count": null,
   "id": "scientific-welcome",
   "metadata": {},
   "outputs": [],
   "source": []
  }
 ],
 "metadata": {
  "kernelspec": {
   "display_name": "Python 3",
   "language": "python",
   "name": "python3"
  },
  "language_info": {
   "codemirror_mode": {
    "name": "ipython",
    "version": 3
   },
   "file_extension": ".py",
   "mimetype": "text/x-python",
   "name": "python",
   "nbconvert_exporter": "python",
   "pygments_lexer": "ipython3",
   "version": "3.8.8"
  }
 },
 "nbformat": 4,
 "nbformat_minor": 5
}
